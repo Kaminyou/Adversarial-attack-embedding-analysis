{
 "cells": [
  {
   "cell_type": "code",
   "execution_count": null,
   "metadata": {},
   "outputs": [],
   "source": [
    "from src.utils import get_mapping_dict\n",
    "from src.dataset import ImageNetteDataset\n",
    "from src.models import get_model\n",
    "from torch.utils.data import DataLoader\n",
    "import torch\n",
    "import numpy as np"
   ]
  },
  {
   "cell_type": "code",
   "execution_count": null,
   "metadata": {
    "scrolled": true
   },
   "outputs": [],
   "source": [
    "device = \"cuda\"\n",
    "model_list = [\"resnet18\",\"resnet50\",\"densenet121\",\"wide_resnet50_2\"]\n",
    "attack_mode_list = [\"fgsm_un\", \"pgd_un\", \"mifgsm_un\", \"deepfool\"]\n",
    "mapping_folder_to_name, mapping_folder_to_label, mapping_name_to_label, mapping_label_to_name = get_mapping_dict()\n",
    "\n",
    "correctness_matrix = np.ones((len(attack_mode_list), len(model_list), len(model_list)))\n",
    "for i, attack_mode in enumerate(attack_mode_list):\n",
    "    for j, model_from in enumerate(model_list):\n",
    "        for k, model_to in enumerate(model_list):\n",
    "            #if model_from == model_to:\n",
    "            #    continue\n",
    "            print(f\"From {model_from} attack {model_to} by {attack_mode}\")\n",
    "            adv_dataset = ImageNetteDataset(data_root=f\"./adv_example/{attack_mode}/{model_from}/\", mapping_folder_to_label=mapping_folder_to_label, train=True, simple_transform=True)\n",
    "            adv_dataloader = DataLoader(adv_dataset, batch_size=50, shuffle=False)\n",
    "            \n",
    "            model = get_model(model_to)\n",
    "            model.load_state_dict(torch.load(f\"./models/{model_to}.pth\"))\n",
    "\n",
    "            model.to(device)\n",
    "            model.eval()\n",
    "            correct_num = 0\n",
    "            data_num = 0\n",
    "            with torch.no_grad():\n",
    "                for idx, (data, labels) in enumerate(adv_dataloader):\n",
    "                    print(f\"val process {idx + 1} / {len(adv_dataloader)}             \", end = \"\\r\")\n",
    "                    data = data.to(device)\n",
    "                    labels = labels.to(device)\n",
    "\n",
    "                    output = model(data)\n",
    "                    _, preds = torch.max(output, 1)\n",
    "                    correct = (labels == preds).sum().cpu().numpy()\n",
    "                    correct_num += correct\n",
    "                    data_num += len(data)\n",
    "            correctness = correct_num / data_num\n",
    "            correctness_matrix[i, j, k] = correctness\n",
    "            print(f\"Correctness = {correctness:.4f}\")\n"
   ]
  }
 ],
 "metadata": {
  "kernelspec": {
   "display_name": "Python 3",
   "language": "python",
   "name": "python3"
  },
  "language_info": {
   "codemirror_mode": {
    "name": "ipython",
    "version": 3
   },
   "file_extension": ".py",
   "mimetype": "text/x-python",
   "name": "python",
   "nbconvert_exporter": "python",
   "pygments_lexer": "ipython3",
   "version": "3.8.8"
  }
 },
 "nbformat": 4,
 "nbformat_minor": 4
}
