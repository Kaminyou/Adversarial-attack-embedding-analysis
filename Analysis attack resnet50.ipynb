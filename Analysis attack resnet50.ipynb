{
 "cells": [
  {
   "cell_type": "code",
   "execution_count": null,
   "metadata": {},
   "outputs": [],
   "source": [
    "from src.utils import get_mapping_dict\n",
    "from analysis import get_latent, draw_distribution, embedding_pipeline"
   ]
  },
  {
   "cell_type": "markdown",
   "metadata": {},
   "source": [
    "# attack resnet50"
   ]
  },
  {
   "cell_type": "code",
   "execution_count": null,
   "metadata": {},
   "outputs": [],
   "source": [
    "model_from_list = [\"resnet18\", \"resnet50\", \"densenet121\", \"wide_resnet50_2\"]\n",
    "model_to = \"resnet50\"\n",
    "attack_mode_list = [\"fgsm_un\", \"pgd_un\", \"pgd_ta\", \"mifigsm_un\", \"deepfool\"]\n",
    "layer_list = [\"first\", \"layer1\", \"layer2\", \"layer3\", \"layer4\"]\n",
    "device = \"cuda\"\n",
    "mapping_folder_to_name, mapping_folder_to_label, mapping_name_to_label, mapping_label_to_name = get_mapping_dict()"
   ]
  },
  {
   "cell_type": "code",
   "execution_count": null,
   "metadata": {
    "scrolled": true
   },
   "outputs": [],
   "source": [
    "for model_from in model_from_list:\n",
    "    print(f\"======== MODEL FROM {model_from} TO {model_to} ========\")\n",
    "    for attack_mode in attack_mode_list:\n",
    "        print(f\"------ ATTACK MODE {attack_mode} ------\")\n",
    "        for layer in layer_list:\n",
    "            embedding_all, label_all, predict_all, ori_or_adv = embedding_pipeline(model_from, model_to, attack_mode, device, layer, mapping_folder_to_label)\n",
    "            latent_embedded = get_latent(embedding_all)\n",
    "            draw_distribution(latent_embedded, label_all, predict_all, ori_or_adv, mapping_label_to_name, title=f\" from:{model_from} || to:{model_to} || attack:{attack_mode} || layer:{layer}\")"
   ]
  },
  {
   "cell_type": "code",
   "execution_count": null,
   "metadata": {},
   "outputs": [],
   "source": []
  }
 ],
 "metadata": {
  "kernelspec": {
   "display_name": "Python 3",
   "language": "python",
   "name": "python3"
  },
  "language_info": {
   "codemirror_mode": {
    "name": "ipython",
    "version": 3
   },
   "file_extension": ".py",
   "mimetype": "text/x-python",
   "name": "python",
   "nbconvert_exporter": "python",
   "pygments_lexer": "ipython3",
   "version": "3.8.8"
  }
 },
 "nbformat": 4,
 "nbformat_minor": 4
}
